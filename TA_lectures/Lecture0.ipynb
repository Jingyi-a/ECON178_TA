{
 "cells": [
  {
   "cell_type": "markdown",
   "metadata": {},
   "source": [
    "\n",
    "# Lecture 0: Install and Work with R \n",
    "\n",
    "## Introduction\n",
    "\n",
    "\n",
    "**TA: Davide Viviano**: \n",
    "\n",
    "- Email: dviviano@ucsd.edu\n",
    "- Website: dviviano.github.io\n",
    "- Please reach out whenever you need any help. I should reply within 24 hours to your emails. \n",
    "- Background: PhD student in Economics. Before I received a master in Data Science. \n",
    "- Research: causal inference, network analysis, machine learning.  \n",
    "\n",
    "\n",
    "**Intended Learning Outcomes:**\n",
    "\n",
    "1. Develop an appreciation for what is involved in learning from data. \n",
    "\n",
    "2. Understand a wide variety of learning algorithms. \n",
    "\n",
    "3. Understand how to apply a variety of learning algorithms to data . \n",
    "\n",
    "4. Understand how to perform evaluation of learning algorithms and model selection. \n",
    "\n",
    "5. *Improve computer programming skills*.\n",
    "\n",
    "\n",
    "\n",
    "**References**: \n",
    "\n",
    "\n",
    "\n",
    "- An introduction to statistical learning  Friedman, Jerome, Trevor Hastie, and Robert Tibshirani. (Available free PDF on-line) -> good reference also for programming \n",
    "\n",
    "optional: \n",
    "\n",
    "- The elements of statistical learning, Friedman, Jerome, Trevor Hastie, and Robert Tibshirani.  Springer, Berlin: Springer series in statistics, 2001. (Available free PDF on-line)\n",
    "\n",
    "\n",
    "\n",
    "## But you will need Data and a powerful program\n",
    "\n",
    "\n",
    "<img src=\"./image/programs.png\" width=\"700\" height=\"300\" alt=\"This is alternate text\">\n",
    "\n",
    "\n",
    "**About R**\n",
    "\n",
    "Pros:\n",
    "\n",
    "- Open Source\n",
    "- Object oriented language\n",
    "- Widely used by statistical communities\n",
    "-  Flexible, rich of packages and built-in functions\n",
    "\n",
    " <br />\n",
    " \n",
    " Cons: Lower efficiency then other languages (ex: C, Julia). \n",
    "\n",
    "\n",
    "\n",
    "\n",
    "## Learning Curve\n",
    "\n",
    "<br />\n",
    "\n",
    "\n",
    "<img src=\"./image/curve.png\" width=\"700\" height=\"300\" alt=\"This is alternate text\">\n",
    "\n",
    "## Today Lecture\n",
    "\n",
    "- Introduction to R: \n",
    "   - Object oriented language: how to write vectors and matrices \n",
    "   - how to open a data set\n",
    "   - basic work with data \n",
    "   \n",
    "\n",
    "## Install R and Rstudio \n",
    "\n",
    "**Instructions**\n",
    "\n",
    "https://courses.edx.org/courses/UTAustinX/UT.7.01x/3T2014/56c5437b88fa43cf828bff5371c6a924/\n",
    "\n",
    "## Basic Programming \n",
    "\n",
    "- Many functions come along external packages. How should we install packages? \n",
    "\n",
    "Two main repositories: CRAN (https://cran.r-project.org/mirrors.html) and github (https://github.com/)\n",
    "\n"
   ]
  },
  {
   "cell_type": "code",
   "execution_count": 1,
   "metadata": {},
   "outputs": [
    {
     "name": "stderr",
     "output_type": "stream",
     "text": [
      "Installing package into ‘/home/davide/R/x86_64-pc-linux-gnu-library/3.4’\n",
      "(as ‘lib’ is unspecified)\n",
      "also installing the dependencies ‘ini’, ‘processx’, ‘clipr’, ‘clisymbols’, ‘fs’, ‘gh’, ‘rex’, ‘callr’, ‘cli’, ‘xopen’, ‘brew’, ‘commonmark’, ‘purrr’, ‘praise’, ‘rlang’, ‘usethis’, ‘covr’, ‘DT’, ‘ellipsis’, ‘pkgbuild’, ‘pkgload’, ‘rcmdcheck’, ‘roxygen2’, ‘rversions’, ‘sessioninfo’, ‘testthat’\n",
      "\n",
      "Loading required package: usethis\n"
     ]
    }
   ],
   "source": [
    "## install package devtools : installation from CRAN\n",
    "install.packages('devtools')\n",
    "## open the package in the current library \n",
    "library(devtools)\n",
    "## call a function from the package\n",
    "# install_github(): to install packages from github"
   ]
  },
  {
   "cell_type": "code",
   "execution_count": 4,
   "metadata": {},
   "outputs": [
    {
     "name": "stdout",
     "output_type": "stream",
     "text": [
      "[1] 1 2 3\n"
     ]
    }
   ],
   "source": [
    "## Define a vector \n",
    "my_first_vector <- c(1,2,3)\n",
    "print(my_first_vector)"
   ]
  },
  {
   "cell_type": "code",
   "execution_count": 5,
   "metadata": {},
   "outputs": [
    {
     "name": "stdout",
     "output_type": "stream",
     "text": [
      " [1] 1 1 1 1 1 1 1 1 1 1\n"
     ]
    }
   ],
   "source": [
    "## Define a vector with repeated elements \n",
    "my_second_vector <- rep(1, 10)\n",
    "print(my_second_vector)"
   ]
  },
  {
   "cell_type": "code",
   "execution_count": 6,
   "metadata": {},
   "outputs": [
    {
     "name": "stdout",
     "output_type": "stream",
     "text": [
      " [1] 1 1 1 1 1 1 1 1 1 1 1 2 3\n"
     ]
    }
   ],
   "source": [
    "## Combine the two vectors \n",
    "my_third_vector <- c(my_second_vector, my_first_vector)\n",
    "print(my_third_vector)"
   ]
  },
  {
   "cell_type": "code",
   "execution_count": 24,
   "metadata": {},
   "outputs": [
    {
     "name": "stdout",
     "output_type": "stream",
     "text": [
      " [1] 1 1 1 1 1 1 1 1 1 1 1 4 9\n"
     ]
    }
   ],
   "source": [
    "## Square the vector\n",
    "print(my_third_vector**2)"
   ]
  },
  {
   "cell_type": "code",
   "execution_count": 7,
   "metadata": {},
   "outputs": [
    {
     "name": "stdout",
     "output_type": "stream",
     "text": [
      "     [,1] [,2] [,3]\n",
      "[1,]    1    4    7\n",
      "[2,]    2    5    8\n",
      "[3,]    3    6    9\n"
     ]
    }
   ],
   "source": [
    "## Define a matrix\n",
    "\n",
    "A <- matrix(c(1:9), nrow = 3, ncol = 3)\n",
    "print(my_first_matrix)"
   ]
  },
  {
   "cell_type": "code",
   "execution_count": 8,
   "metadata": {},
   "outputs": [
    {
     "name": "stdout",
     "output_type": "stream",
     "text": [
      "     [,1] [,2]\n",
      "[1,]    1    4\n",
      "[2,]    2    5\n",
      "[3,]    3    6\n"
     ]
    }
   ],
   "source": [
    "B <- matrix(c(1:6), nrow = 3, ncol = 2 )\n",
    "print(my_second_matrix)"
   ]
  },
  {
   "cell_type": "markdown",
   "metadata": {},
   "source": [
    "- Matrix Multiplication: \n",
    "$C = B^\\top A$"
   ]
  },
  {
   "cell_type": "code",
   "execution_count": 9,
   "metadata": {},
   "outputs": [
    {
     "data": {
      "text/html": [
       "<table>\n",
       "<tbody>\n",
       "\t<tr><td>14 </td><td>32 </td><td> 50</td></tr>\n",
       "\t<tr><td>32 </td><td>77 </td><td>122</td></tr>\n",
       "</tbody>\n",
       "</table>\n"
      ],
      "text/latex": [
       "\\begin{tabular}{lll}\n",
       "\t 14  & 32  &  50\\\\\n",
       "\t 32  & 77  & 122\\\\\n",
       "\\end{tabular}\n"
      ],
      "text/markdown": [
       "\n",
       "| 14  | 32  |  50 | \n",
       "| 32  | 77  | 122 | \n",
       "\n",
       "\n"
      ],
      "text/plain": [
       "     [,1] [,2] [,3]\n",
       "[1,] 14   32    50 \n",
       "[2,] 32   77   122 "
      ]
     },
     "metadata": {},
     "output_type": "display_data"
    }
   ],
   "source": [
    "## Matrix multiplication \n",
    "t(B)%*%A"
   ]
  },
  {
   "cell_type": "code",
   "execution_count": 10,
   "metadata": {},
   "outputs": [
    {
     "data": {
      "text/html": [
       "<table>\n",
       "<tbody>\n",
       "\t<tr><td>NA</td><td>NA</td></tr>\n",
       "\t<tr><td>NA</td><td>NA</td></tr>\n",
       "</tbody>\n",
       "</table>\n"
      ],
      "text/latex": [
       "\\begin{tabular}{ll}\n",
       "\t NA & NA\\\\\n",
       "\t NA & NA\\\\\n",
       "\\end{tabular}\n"
      ],
      "text/markdown": [
       "\n",
       "| NA | NA | \n",
       "| NA | NA | \n",
       "\n",
       "\n"
      ],
      "text/plain": [
       "     [,1] [,2]\n",
       "[1,] NA   NA  \n",
       "[2,] NA   NA  "
      ]
     },
     "metadata": {},
     "output_type": "display_data"
    }
   ],
   "source": [
    "## Fill a matrix with missing values\n",
    "C <- matrix(NA, nrow = 2, ncol = 2)\n",
    "C"
   ]
  },
  {
   "cell_type": "markdown",
   "metadata": {},
   "source": [
    "## Open Data Sets"
   ]
  },
  {
   "cell_type": "code",
   "execution_count": 14,
   "metadata": {},
   "outputs": [],
   "source": [
    "### Download data folder  \n",
    "## Open the forestfirest file \n",
    "forest.fires <- read.csv(\"./data/forestfires.csv\")\n"
   ]
  },
  {
   "cell_type": "code",
   "execution_count": 12,
   "metadata": {},
   "outputs": [
    {
     "data": {
      "text/html": [
       "<ol class=list-inline>\n",
       "\t<li>517</li>\n",
       "\t<li>13</li>\n",
       "</ol>\n"
      ],
      "text/latex": [
       "\\begin{enumerate*}\n",
       "\\item 517\n",
       "\\item 13\n",
       "\\end{enumerate*}\n"
      ],
      "text/markdown": [
       "1. 517\n",
       "2. 13\n",
       "\n",
       "\n"
      ],
      "text/plain": [
       "[1] 517  13"
      ]
     },
     "metadata": {},
     "output_type": "display_data"
    }
   ],
   "source": [
    "## Look at the dimension \n",
    "dim(forest.fires)"
   ]
  },
  {
   "cell_type": "code",
   "execution_count": 13,
   "metadata": {},
   "outputs": [
    {
     "data": {
      "text/html": [
       "<ol class=list-inline>\n",
       "\t<li>'X'</li>\n",
       "\t<li>'Y'</li>\n",
       "\t<li>'month'</li>\n",
       "\t<li>'day'</li>\n",
       "\t<li>'FFMC'</li>\n",
       "\t<li>'DMC'</li>\n",
       "\t<li>'DC'</li>\n",
       "\t<li>'ISI'</li>\n",
       "\t<li>'temp'</li>\n",
       "\t<li>'RH'</li>\n",
       "\t<li>'wind'</li>\n",
       "\t<li>'rain'</li>\n",
       "\t<li>'area'</li>\n",
       "</ol>\n"
      ],
      "text/latex": [
       "\\begin{enumerate*}\n",
       "\\item 'X'\n",
       "\\item 'Y'\n",
       "\\item 'month'\n",
       "\\item 'day'\n",
       "\\item 'FFMC'\n",
       "\\item 'DMC'\n",
       "\\item 'DC'\n",
       "\\item 'ISI'\n",
       "\\item 'temp'\n",
       "\\item 'RH'\n",
       "\\item 'wind'\n",
       "\\item 'rain'\n",
       "\\item 'area'\n",
       "\\end{enumerate*}\n"
      ],
      "text/markdown": [
       "1. 'X'\n",
       "2. 'Y'\n",
       "3. 'month'\n",
       "4. 'day'\n",
       "5. 'FFMC'\n",
       "6. 'DMC'\n",
       "7. 'DC'\n",
       "8. 'ISI'\n",
       "9. 'temp'\n",
       "10. 'RH'\n",
       "11. 'wind'\n",
       "12. 'rain'\n",
       "13. 'area'\n",
       "\n",
       "\n"
      ],
      "text/plain": [
       " [1] \"X\"     \"Y\"     \"month\" \"day\"   \"FFMC\"  \"DMC\"   \"DC\"    \"ISI\"   \"temp\" \n",
       "[10] \"RH\"    \"wind\"  \"rain\"  \"area\" "
      ]
     },
     "metadata": {},
     "output_type": "display_data"
    }
   ],
   "source": [
    "## look at names of the variables\n",
    "names(forest.fires)"
   ]
  },
  {
   "cell_type": "code",
   "execution_count": 17,
   "metadata": {},
   "outputs": [
    {
     "data": {
      "image/png": "[encoded data removed]",
      "text/plain": [
       "Plot with title “histogram of area burned”"
      ]
     },
     "metadata": {},
     "output_type": "display_data"
    }
   ],
   "source": [
    "## Look at the area variable\n",
    "y <- forest.fires$area\n",
    "## Do an histogram\n",
    "hist(y, breaks=100, main=\"histogram of area burned\", xlab=\"area burned\")"
   ]
  },
  {
   "cell_type": "code",
   "execution_count": 18,
   "metadata": {},
   "outputs": [
    {
     "data": {
      "text/plain": [
       "\n",
       "Call:\n",
       "lm(formula = area ~ temp, data = forest.fires)\n",
       "\n",
       "Residuals:\n",
       "    Min      1Q  Median      3Q     Max \n",
       " -27.34  -14.68  -10.39   -3.42 1071.33 \n",
       "\n",
       "Coefficients:\n",
       "            Estimate Std. Error t value Pr(>|t|)  \n",
       "(Intercept)  -7.4138     9.4996  -0.780   0.4355  \n",
       "temp          1.0726     0.4808   2.231   0.0261 *\n",
       "---\n",
       "Signif. codes:  0 ‘***’ 0.001 ‘**’ 0.01 ‘*’ 0.05 ‘.’ 0.1 ‘ ’ 1\n",
       "\n",
       "Residual standard error: 63.41 on 515 degrees of freedom\n",
       "Multiple R-squared:  0.009573,\tAdjusted R-squared:  0.00765 \n",
       "F-statistic: 4.978 on 1 and 515 DF,  p-value: 0.0261\n"
      ]
     },
     "metadata": {},
     "output_type": "display_data"
    }
   ],
   "source": [
    "## Run a linear regression \n",
    "\n",
    "reg1 <- lm(area ~ temp, data=forest.fires)\n",
    "summary(reg1)"
   ]
  },
  {
   "cell_type": "code",
   "execution_count": 19,
   "metadata": {},
   "outputs": [
    {
     "data": {
      "image/png": "[encoded data removed]",
      "text/plain": [
       "Plot with title “Area VS Temp”"
      ]
     },
     "metadata": {},
     "output_type": "display_data"
    }
   ],
   "source": [
    "## Plot the regression\n",
    "plot(area ~ temp, data=forest.fires, col=\"red\", pch=19, cex=1, main=\"Area VS Temp\")\n",
    "abline(reg1, col=\"blue\", lwd=2)"
   ]
  },
  {
   "cell_type": "code",
   "execution_count": 23,
   "metadata": {},
   "outputs": [
    {
     "name": "stdout",
     "output_type": "stream",
     "text": [
      "[1] 4005.508\n"
     ]
    }
   ],
   "source": [
    "## Predictions \n",
    "predictions <- predict(reg1, newdata = forest.fires)\n",
    "## Compute prediction error \n",
    "MSE <- mean((forest.fires$area - predictions)**2)\n",
    "print(MSE)"
   ]
  },
  {
   "cell_type": "markdown",
   "metadata": {},
   "source": [
    "### Exercise \n",
    "\n",
    "- Run a regression by Including also the variables: temp, wind , rain , day , month\n",
    "- Report the coefficients \n",
    "- Report the prediction error \n",
    "\n",
    "### Challenging Exercise\n",
    "\n",
    "- Consider the previous regression: do you observe ``outliers''? \n",
    "- Remove the outliers and run a new regression. What are now the coefficients? \n"
   ]
  }
 ],
 "metadata": {
  "kernelspec": {
   "display_name": "R",
   "language": "R",
   "name": "ir"
  },
  "language_info": {
   "codemirror_mode": "r",
   "file_extension": ".r",
   "mimetype": "text/x-r-source",
   "name": "R",
   "pygments_lexer": "r",
   "version": "3.4.4"
  }
 },
 "nbformat": 4,
 "nbformat_minor": 2
}
